{
 "cells": [
  {
   "cell_type": "code",
   "execution_count": 2,
   "id": "2ee3c25f-7df0-4b22-8e37-37ed886df3d0",
   "metadata": {},
   "outputs": [],
   "source": [
    "import os\n",
    "import sys\n",
    "import datetime\n",
    "import subprocess"
   ]
  },
  {
   "cell_type": "code",
   "execution_count": 3,
   "id": "c2287a03-589d-4317-9a84-41b2990cb1eb",
   "metadata": {},
   "outputs": [],
   "source": [
    "# ждать не менее 90 сек от вступления чтобы дождаться конца сейсмограммы\n",
    "SLEEP = 90\n",
    "\n",
    "# число попыток отправить сейсмограмму\n",
    "N = 3"
   ]
  },
  {
   "cell_type": "code",
   "execution_count": 4,
   "id": "0bb5585a-1d6d-44de-9689-299c47156bcc",
   "metadata": {},
   "outputs": [],
   "source": [
    "def main(args):\n",
    "    # строка запуска:\n",
    "    # скрипт         NT STA  AMP id\n",
    "    # 0              1  2    3   4\n",
    "    # ./pick_ampl.py B1 UUDB 1.0 20230727.031300.00-B1.UUDB.00.HHE.snr\n",
    "    args_str = \" \".join(args[1:])\n",
    "    # сохранить аргументы + тек.время\n",
    "    os.system('echo \"%s\"\\t\\t\"%s\" >> /home/sysop/pick_ampl.dat' % (args_str, datetime.datetime.now()))\n",
    "    # ждать 90 сек\n",
    "    time.sleep(SLEEP)\n",
    "\n",
    "    # строка запуска\n",
    "    cmd = 'source /home/sysop/.bashrc_conda && python /home/sysop/bin/send_pick/send_pick.py %s' % args_str\n",
    "\n",
    "    # запускать не больше 3 попыток, пока return code!=0 (0 no error)\n",
    "    for i in range(N):\n",
    "        print(\"*** Попытка отправить #%d\" % (i+1))\n",
    "        # if no error occured, OK == 0\n",
    "        ret = subprocess.call(cmd, shell=True, executable='/bin/bash')\n",
    "        \n",
    "        if ret != 0:# wait, and start again\n",
    "            time.sleep(SLEEP)\n",
    "        else:# OK, sent succesful\n",
    "            break\n",
    "\n",
    "    return 0"
   ]
  },
  
 ],
 "metadata": {
  "kernelspec": {
   "display_name": "Python 3 (ipykernel)",
   "language": "python",
   "name": "python3"
  },
  "language_info": {
   "codemirror_mode": {
    "name": "ipython",
    "version": 3
   },
   "file_extension": ".py",
   "mimetype": "text/x-python",
   "name": "python",
   "nbconvert_exporter": "python",
   "pygments_lexer": "ipython3",
   "version": "3.10.10"
  }
 },
 "nbformat": 4,
 "nbformat_minor": 5
}
